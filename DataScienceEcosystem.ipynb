{
 "cells": [
  {
   "cell_type": "markdown",
   "id": "8a7c0761-70b3-4696-8b6d-f8466941cad4",
   "metadata": {},
   "source": [
    "# Data Science Tools and Ecosystems"
   ]
  },
  {
   "cell_type": "code",
   "execution_count": null,
   "id": "1b827ffe-548a-45b3-a0bd-61b33874833e",
   "metadata": {},
   "outputs": [],
   "source": [
    "We will be summarizing Data Science Tools and the Ecosystem in this notebook."
   ]
  },
  {
   "cell_type": "markdown",
   "id": "12cb45ca-3a1a-42fa-9677-b83bb128e8d1",
   "metadata": {},
   "source": [
    "**Objectives:**\n",
    "\n",
    "- List popular languages used in Data Science\n",
    "- List some common libraries used in Data Science\n",
    "- List some Data Science tools\n",
    "- Provide some examples for arithmetic expressions in Python"
   ]
  },
  {
   "cell_type": "markdown",
   "id": "ced808ef-e645-4af7-880b-d1521a4b3889",
   "metadata": {},
   "source": [
    "These are some of the popular languages used by Data Scientists:\n",
    "\n",
    "1. Python\n",
    "2. SQL\n",
    "3. R"
   ]
  },
  {
   "cell_type": "markdown",
   "id": "e381b62d-511e-40a2-a249-a9d6806a6270",
   "metadata": {},
   "source": [
    "Some commonly used libraries include:\n",
    "\n",
    "1. NumPy\n",
    "2. Plotly\n",
    "3. SciKit-Learn"
   ]
  },
  {
   "cell_type": "markdown",
   "id": "6b4b6b11-1dfa-4e17-b491-0e6ccfe2be79",
   "metadata": {},
   "source": [
    "| Data Science Tools |\n",
    "----------------------\n",
    "| Jupyter Lab        |\n",
    "| R Studio           |\n",
    "| Visual Studio Code |"
   ]
  },
  {
   "cell_type": "markdown",
   "id": "763ac78e-1225-447a-b765-999fd2d55255",
   "metadata": {},
   "source": [
    "Here are a few examples of evaluating arithmetic expressions in Python"
   ]
  },
  {
   "cell_type": "code",
   "execution_count": 1,
   "id": "7b0261ad-8a00-43a0-bca9-f9d80fa8e170",
   "metadata": {},
   "outputs": [
    {
     "data": {
      "text/plain": [
       "17"
      ]
     },
     "execution_count": 1,
     "metadata": {},
     "output_type": "execute_result"
    }
   ],
   "source": [
    "# This is a simple arithmetic expression to multiply and add integers.\n",
    "(3*4)+5"
   ]
  },
  {
   "cell_type": "code",
   "execution_count": 2,
   "id": "4126aa8a-0aba-4930-9a7d-36dae4eedab7",
   "metadata": {},
   "outputs": [
    {
     "data": {
      "text/plain": [
       "3.3333333333333335"
      ]
     },
     "execution_count": 2,
     "metadata": {},
     "output_type": "execute_result"
    }
   ],
   "source": [
    "# This will convert 200 minutes to hours by dividing by 60.\n",
    "200/60"
   ]
  },
  {
   "cell_type": "markdown",
   "id": "8d5e1463-7bf9-462c-afc6-ea5bb316e3f1",
   "metadata": {},
   "source": [
    "## Author\n",
    "Anthony Milholen"
   ]
  }
 ],
 "metadata": {
  "kernelspec": {
   "display_name": "Python 3 (ipykernel)",
   "language": "python",
   "name": "python3"
  },
  "language_info": {
   "codemirror_mode": {
    "name": "ipython",
    "version": 3
   },
   "file_extension": ".py",
   "mimetype": "text/x-python",
   "name": "python",
   "nbconvert_exporter": "python",
   "pygments_lexer": "ipython3",
   "version": "3.12.2"
  }
 },
 "nbformat": 4,
 "nbformat_minor": 5
}
